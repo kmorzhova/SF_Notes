{
 "cells": [
  {
   "cell_type": "markdown",
   "metadata": {},
   "source": [
    "6. Закрепление знаний\n",
    "✍ А теперь настало время применить навыки работы со столбцами на практике.\n",
    "В этом вам поможет скринкаст, в котором мы собрали самые важные моменты модуля ↓\n",
    "На этот раз мы поговорим о спорте, а точнее — о велоспорте. \n",
    "Вашим заданием в этом модуле будет проанализировать и преобразовать данные о велопоездках клиентов компании Citi Bike (США), специализирующейся на прокате велосипедов.\n",
    "Скачать датасет в формате csv можно здесь.\n",
    "Датасет представляет собой таблицу с информацией о 300 тысячах поездок за первые пять дней сентября 2018 года и включает в себя следующую информацию:\n",
    "o\tstarttime — время начала поездки (дата, время);\n",
    "o\tstoptime — время окончания поездки (дата, время);\n",
    "o\tstart station id — идентификатор стартовой стоянки;\n",
    "o\tstart station name — название стартовой стоянки;\n",
    "o\tstart station latitude, start station longitude — географическая широта и долгота стартовой стоянки;\n",
    "o\tend station id — идентификатор конечной стоянки;\n",
    "o\tend station name — название конечной стоянки;\n",
    "o\tend station latitude, end station longitude — географическая широта и долгота конечной стоянки;\n",
    "o\tbikeid — идентификатор велосипеда;\n",
    "o\tusertype — тип пользователя (Customer — клиент с подпиской на 24 часа или на три дня, Subscriber — подписчик с годовой арендой велосипеда);\n",
    "o\tbirth year — год рождения клиента;\n",
    "o\tgender — пол клиента (0 — неизвестный, 1 — мужчина, 2 — женщина).\n",
    "Оригинальный источник данных вы можете найти здесь. Он представляет собой таблицу на 1,7 миллиона строк. В учебных целях мы удалили из датасета несколько признаков, а также уменьшили число строк.\n",
    "Итак, начнём с разминки и произведём базовый анализ, чтобы познакомиться с данными поближе, а заодно повторим темы предыдущего модуля.\n"
   ]
  },
  {
   "cell_type": "code",
   "execution_count": 2,
   "metadata": {},
   "outputs": [],
   "source": [
    "import numpy as np\n"
   ]
  },
  {
   "cell_type": "code",
   "execution_count": 1,
   "metadata": {},
   "outputs": [],
   "source": [
    "import pandas as pd"
   ]
  },
  {
   "cell_type": "markdown",
   "metadata": {},
   "source": [
    "***Задание 6.1***\n",
    "\n",
    " Сколько пропусков в столбце start station id?  \n",
    "1.\tПодсказка (1 из 1): Число непропущенных значений можно узнать с помощью метода info().\n",
    "\n",
    "(169)\n"
   ]
  },
  {
   "cell_type": "code",
   "execution_count": 9,
   "metadata": {},
   "outputs": [
    {
     "name": "stdout",
     "output_type": "stream",
     "text": [
      "<class 'pandas.core.frame.DataFrame'>\n",
      "RangeIndex: 300000 entries, 0 to 299999\n",
      "Data columns (total 14 columns):\n",
      " #   Column                   Non-Null Count   Dtype  \n",
      "---  ------                   --------------   -----  \n",
      " 0   starttime                300000 non-null  object \n",
      " 1   stoptime                 300000 non-null  object \n",
      " 2   start station id         299831 non-null  float64\n",
      " 3   start station name       299831 non-null  object \n",
      " 4   start station latitude   300000 non-null  float64\n",
      " 5   start station longitude  300000 non-null  float64\n",
      " 6   end station id           299831 non-null  float64\n",
      " 7   end station name         299831 non-null  object \n",
      " 8   end station latitude     300000 non-null  float64\n",
      " 9   end station longitude    300000 non-null  float64\n",
      " 10  bikeid                   300000 non-null  int64  \n",
      " 11  usertype                 300000 non-null  object \n",
      " 12  birth year               300000 non-null  int64  \n",
      " 13  gender                   300000 non-null  int64  \n",
      "dtypes: float64(6), int64(3), object(5)\n",
      "memory usage: 32.0+ MB\n"
     ]
    }
   ],
   "source": [
    "bike_data = pd.read_csv('data/citibike-tripdata.csv')\n",
    "bike_df = bike_data.copy()\n",
    "bike_df.info(['start station id'])"
   ]
  },
  {
   "cell_type": "code",
   "execution_count": 8,
   "metadata": {},
   "outputs": [
    {
     "data": {
      "text/plain": [
       "starttime                    0\n",
       "stoptime                     0\n",
       "start station id           169\n",
       "start station name         169\n",
       "start station latitude       0\n",
       "start station longitude      0\n",
       "end station id             169\n",
       "end station name           169\n",
       "end station latitude         0\n",
       "end station longitude        0\n",
       "bikeid                       0\n",
       "usertype                     0\n",
       "birth year                   0\n",
       "gender                       0\n",
       "dtype: int64"
      ]
     },
     "execution_count": 8,
     "metadata": {},
     "output_type": "execute_result"
    }
   ],
   "source": [
    "bike_data = pd.read_csv('data/citibike-tripdata.csv')\n",
    "bike_df = bike_data.copy()\n",
    "bike_df.isnull().sum()"
   ]
  },
  {
   "cell_type": "markdown",
   "metadata": {},
   "source": [
    "***Задание 6.2***\n",
    "\n",
    "Какой тип данных имеют столбцы starttime и stoptime?  \n",
    "1.\tПодсказка (1 из 1): Тип данных в столбцах можно узнать с помощью метода info().\n",
    "\n",
    "(object)\n"
   ]
  },
  {
   "cell_type": "code",
   "execution_count": 11,
   "metadata": {},
   "outputs": [
    {
     "name": "stdout",
     "output_type": "stream",
     "text": [
      "<class 'pandas.core.frame.DataFrame'>\n",
      "RangeIndex: 300000 entries, 0 to 299999\n",
      "Data columns (total 14 columns):\n",
      " #   Column                   Non-Null Count   Dtype  \n",
      "---  ------                   --------------   -----  \n",
      " 0   starttime                300000 non-null  object \n",
      " 1   stoptime                 300000 non-null  object \n",
      " 2   start station id         299831 non-null  float64\n",
      " 3   start station name       299831 non-null  object \n",
      " 4   start station latitude   300000 non-null  float64\n",
      " 5   start station longitude  300000 non-null  float64\n",
      " 6   end station id           299831 non-null  float64\n",
      " 7   end station name         299831 non-null  object \n",
      " 8   end station latitude     300000 non-null  float64\n",
      " 9   end station longitude    300000 non-null  float64\n",
      " 10  bikeid                   300000 non-null  int64  \n",
      " 11  usertype                 300000 non-null  object \n",
      " 12  birth year               300000 non-null  int64  \n",
      " 13  gender                   300000 non-null  int64  \n",
      "dtypes: float64(6), int64(3), object(5)\n",
      "memory usage: 32.0+ MB\n"
     ]
    }
   ],
   "source": [
    "bike_data = pd.read_csv('data/citibike-tripdata.csv')\n",
    "bike_df = bike_data.copy()\n",
    "bike_df.info()"
   ]
  },
  {
   "cell_type": "markdown",
   "metadata": {},
   "source": [
    "*Задание 6.3*\n",
    "\n",
    "Найдите идентификатор самой популярной стартовой стоянки. Запишите идентификатор в виде целого числа.  \n",
    "1.\tПодсказка (1 из 1): Чтобы найти идентификатор самой популярной стартовой стоянки, можно найти моду в столбце start station id с помощью метода mode().\n",
    "\n",
    "(281)\n"
   ]
  },
  {
   "cell_type": "code",
   "execution_count": 14,
   "metadata": {},
   "outputs": [
    {
     "name": "stdout",
     "output_type": "stream",
     "text": [
      "281.0\n"
     ]
    }
   ],
   "source": [
    "bike_data = pd.read_csv('data/citibike-tripdata.csv')\n",
    "bike_df = bike_data.copy()\n",
    "print(bike_df['start station id'].mode()[0])"
   ]
  },
  {
   "cell_type": "markdown",
   "metadata": {},
   "source": [
    "*Задание 6.4*\n",
    "\n",
    "Велосипед с каким идентификатором является самым популярным?  \n",
    "1.\tПодсказка (1 из 1): Чтобы найти идентификатор самого популярного велосипеда, можно найти моду в столбце bikeid с помощью метода mode().\n",
    "\n",
    "(33887)\n"
   ]
  },
  {
   "cell_type": "code",
   "execution_count": 15,
   "metadata": {},
   "outputs": [
    {
     "name": "stdout",
     "output_type": "stream",
     "text": [
      "33887\n"
     ]
    }
   ],
   "source": [
    "bike_data = pd.read_csv('data/citibike-tripdata.csv')\n",
    "bike_df = bike_data.copy()\n",
    "print(bike_df['bikeid'].mode()[0])"
   ]
  },
  {
   "cell_type": "markdown",
   "metadata": {},
   "source": [
    "*Задание 6.5*\n",
    "\n",
    "Какой тип клиентов (столбец usertype) является преобладающим — Subscriber или Customer? В качестве ответа запишите долю клиентов преобладающего типа среди общего количества клиентов. Ответ округлите до сотых.  \n",
    "\n",
    "*Подсказка* (1 из 3): Чтобы найти преобладающий тип клиентов, можно использовать метод mode().\n",
    "\n",
    "*Подсказка* (2 из 3): Произведите фильтрацию и найдите поездки преобладающего типа клиентов.\n",
    "\n",
    "*Подсказка* (3 из 3): Разделите число строк в отфильтрованной таблице на общее число строк.\n",
    "\n",
    "(0.77)\n"
   ]
  },
  {
   "cell_type": "code",
   "execution_count": 17,
   "metadata": {},
   "outputs": [
    {
     "name": "stdout",
     "output_type": "stream",
     "text": [
      "0.77\n"
     ]
    }
   ],
   "source": [
    "bike_data = pd.read_csv('data/citibike-tripdata.csv')\n",
    "bike_df = bike_data.copy()\n",
    "mode_usertype = bike_df['usertype'].mode()[0]\n",
    "count_mode_user = bike_df[bike_df['usertype'] == mode_usertype].shape[0]\n",
    "print(round(count_mode_user / bike_df.shape[0], 2))\n"
   ]
  },
  {
   "cell_type": "markdown",
   "metadata": {},
   "source": [
    "*Задание 6.6*\n",
    "\n",
    "Кто больше занимается велоспортом — мужчины или женщины? В ответ запишите число поездок для той группы, у которой их больше. \n",
    "Подсказка (1 из 1): Для решения данной задачи достаточно произвести фильтрацию по условию равенства столбца gender значениям 1 и 2, и найти число строк в отфильтрованных таблицах. После этого необходимо выбрать максимальное из двух чисел.\n",
    "\n",
    " (183582)\n"
   ]
  },
  {
   "cell_type": "code",
   "execution_count": 18,
   "metadata": {},
   "outputs": [
    {
     "name": "stdout",
     "output_type": "stream",
     "text": [
      "183582\n"
     ]
    }
   ],
   "source": [
    "bike_data = pd.read_csv('data/citibike-tripdata.csv')\n",
    "bike_df = bike_data.copy()\n",
    "male_count = bike_df[bike_df['gender'] == 1].shape[0]\n",
    "female_count = bike_df[bike_df['gender'] == 0].shape[0]\n",
    "print(max([male_count, female_count]))\n"
   ]
  },
  {
   "cell_type": "markdown",
   "metadata": {},
   "source": [
    "*Задание 6.8*\n",
    "\n",
    "В первую очередь удалим лишнюю информацию из данных.\n",
    "В наших данных присутствуют столбцы, которые дублируют информацию друг о друге: это столбцы с идентификатором и названием стартовой и конечной стоянки. Удалите признаки идентификаторов стоянок. Сколько столбцов осталось?  \n",
    "\n",
    "*Подсказка* (1 из 2): Для удаления столбцов из таблицы можно воспользоваться методом drop(), передав в него наименования столбцов, а также параметр\n",
    "\n",
    "*Подсказка* (2 из 2): Результирующее число столбцов можно получить с помощью атрибута shape.\n",
    "\n",
    " axis=1.\n",
    "(12)\n"
   ]
  },
  {
   "cell_type": "code",
   "execution_count": 19,
   "metadata": {},
   "outputs": [
    {
     "name": "stdout",
     "output_type": "stream",
     "text": [
      "12\n"
     ]
    }
   ],
   "source": [
    "bike_data = pd.read_csv('data/citibike-tripdata.csv')\n",
    "bike_df = bike_data.copy()\n",
    "bike_df.drop(['start station id', 'end station id'], axis=1, inplace=True)\n",
    "print(bike_df.shape[1])\n"
   ]
  },
  {
   "cell_type": "markdown",
   "metadata": {},
   "source": [
    "Задание 6.9\n",
    "\n",
    "Замените признак birth year на более понятный признак возраста клиента age. Годом отсчёта возраста выберите 2018 год. Столбец birth year удалите из таблицы. Сколько поездок совершено клиентами старше 60 лет?  \n",
    "Подсказка (1 из 3): Чтобы создать столбец с возрастом, вычтите из числа 2018 столбец birth year, а результат положите в столбец age.\n",
    "\n",
    "*Подсказка* (1 из 3): Чтобы создать столбец с возрастом, вычтите из числа 2018 столбец birth year, а результат положите в столбец age.\n",
    "\n",
    "*Подсказка* (2 из 3): Удалите столбец birth year и произведите фильтрацию по условию «возраст больше 60».\n",
    "\n",
    "*Подсказка* (3 из 3): Найдите число строк в отфильтрованной таблице.\n",
    "(11837)\n"
   ]
  },
  {
   "cell_type": "code",
   "execution_count": 21,
   "metadata": {},
   "outputs": [
    {
     "name": "stdout",
     "output_type": "stream",
     "text": [
      "11837\n"
     ]
    }
   ],
   "source": [
    "bike_data = pd.read_csv('data/citibike-tripdata.csv')\n",
    "bike_df = bike_data.copy()\n",
    "bike_df['age'] = 2018 - bike_df['birth year']\n",
    "bike_df.drop(['birth year'], axis=1, inplace=True)\n",
    "print(bike_df[bike_df['age'] > 60].shape[0])\n"
   ]
  },
  {
   "cell_type": "markdown",
   "metadata": {},
   "source": [
    "*Задание 6.10*\n",
    "\n",
    "Создайте признак длительности поездки trip duration. Для этого вычислите интервал времени между временем окончания поездки (stoptime) и её началом (starttime). Сколько целых минут длилась поездка под индексом 3 в таблице?  \n",
    "\n",
    "*Подсказка* (1 из 2): Приводим столбцы starttime и stoptime в формат datetime, чтобы между ними можно было вычислять интервал (разницу между датами).\n",
    "\n",
    "*Подсказка* (2 из 2): Длительность поездки рассчитывается как разница между stoptime и starttime. Результат заносим в столбец trip duration. Далее нам останется только обратиться к строке под индексом 3.\n",
    "\n",
    "(7)\n"
   ]
  },
  {
   "cell_type": "code",
   "execution_count": 22,
   "metadata": {},
   "outputs": [
    {
     "data": {
      "text/plain": [
       "Timedelta('0 days 00:07:16.837000')"
      ]
     },
     "execution_count": 22,
     "metadata": {},
     "output_type": "execute_result"
    }
   ],
   "source": [
    "bike_data = pd.read_csv('data/citibike-tripdata.csv')\n",
    "bike_df = bike_data.copy()\n",
    "bike_df['starttime'] = pd.to_datetime(bike_df['starttime'])\n",
    "bike_df['stoptime'] = pd.to_datetime(bike_df['stoptime'])\n",
    "bike_df['trip duration'] = (bike_df['stoptime'] - bike_df['starttime'])\n",
    "bike_df.loc[3, 'trip duration']\n"
   ]
  },
  {
   "cell_type": "markdown",
   "metadata": {},
   "source": [
    "*Задание 6.11*\n",
    "\n",
    "Создайте «признак-мигалку» weekend, который равен 1, если поездка начиналась в выходной день (суббота или воскресенье), и 0 — в противном случае. Выясните, сколько поездок начиналось в выходные.  \n",
    "\n",
    "*Подсказка* (1 из 3): Чтобы создать признак weekend, необходимо с помощью атрибута аксессора dt dayofweek выделить день недели из столбца с датой начала поездки.\n",
    "\n",
    "*Подсказка* (2 из 3): С помощью метода apply() можно применить к результирующей Series функцию, которая принимает на вход число (день поездки) и возвращает 1, если это число равно 5 или 6 (суббота и воскресенье), в противном случае функция возвращает 0. Результат необходимо занести в столбец weekend.\n",
    "\n",
    "*Подсказка* (3 из 3): Самый простой способ посчитать число поездок, совершаемых в выходные — рассчитать сумму по столбцу (поскольку столбец состоит из 1 и 0, на выходе суммы получается количество, равное 1).\n",
    "(115135)\n",
    "\n",
    "*В переменную weekday нельзя воткнуть целый столбец. Необходимо для набора данных bike_df создать столбец (признак) weekday. Делается это так:\n",
    "bike_df['weekday']=bike_df['starttime'].dt.dayofweek\n",
    "А далее создаем столбец (признак) weekend на основе полученного столбца weekday\n",
    "bike_df['weekend]=bike_df['weekday'].apply(...)\n",
    "Все просто на самом деле. Забываем, что в DF можно работать только со столбцами и строками и в редких случаях с ячейками.\n"
   ]
  },
  {
   "cell_type": "code",
   "execution_count": 43,
   "metadata": {},
   "outputs": [
    {
     "data": {
      "text/plain": [
       "weekend\n",
       "0    300000\n",
       "Name: count, dtype: int64"
      ]
     },
     "metadata": {},
     "output_type": "display_data"
    }
   ],
   "source": [
    "bike_data = pd.read_csv('data/citibike-tripdata.csv')\n",
    "bike_df = bike_data.copy()\n",
    "bike_df['starttime'] = pd.to_datetime(bike_df['starttime'], dayfirst=True)\n",
    "bike_day_of_week=bike_df['starttime'].dt.dayofweek\n",
    "bike_df['weekend'] = bike_day_of_week.apply(lambda x: 1 if x > 4 else 0)\n",
    "display(bike_df['weekend'].value_counts())\n"
   ]
  },
  {
   "cell_type": "markdown",
   "metadata": {},
   "source": [
    "*Задание 6.12*\n",
    "\n",
    "Создайте признак времени суток поездки time_of_day. Время суток будем определять из часа начала поездки. Условимся, что:\n",
    "•\tпоездка совершается ночью (night), если её час приходится на интервал от 0 (включительно) до 6 (включительно) часов;\n",
    "•\tпоездка совершается утром (morning), если её час приходится на интервал от 6 (не включительно) до 12 (включительно) часов;\n",
    "•\tпоездка совершается днём (day), если её час приходится на интервал от 12 (не включительно) до 18 (включительно) часов;\n",
    "•\tпоездка совершается вечером (evening), если её час приходится на интервал от 18 (не включительно) до 23 часов (включительно).\n",
    "Во сколько раз количество поездок, совершённых днём, больше, чем количество поездок, совёршенных ночью, за представленный в данных период времени? Ответ округлите до целых.\n",
    "1.\tПодсказка (1 из 3): Определите функцию get_time_of_day, которая принимает на вход время (в часах) и возвращает время суток в зависимости от принадлежности часа к указанному в задании диапазону.\n",
    "2.\tПодсказка (2 из 3): Примените эту функцию к столбцу starttime, предварительно выделив час начала поездки с помощью атрибута аксессора dt hour. Результат занесите в столбец time_of_day.\n",
    "3.\tПодсказка (3 из 3): С помощью фильтрации найдите число поездок, совершённых днем и ночью, и разделите первое на второе.\n",
    "(9)\n"
   ]
  },
  {
   "cell_type": "code",
   "execution_count": 45,
   "metadata": {},
   "outputs": [
    {
     "name": "stdout",
     "output_type": "stream",
     "text": [
      "9\n"
     ]
    }
   ],
   "source": [
    "bike_data = pd.read_csv('data/citibike-tripdata.csv')\n",
    "bike_df = bike_data.copy()\n",
    "bike_df['starttime'] = pd.to_datetime(bike_df['starttime'], dayfirst=True)\n",
    "time_of_day = bike_df['starttime']\n",
    "def get_time_of_day(time):\n",
    "    if 0 <= time <= 6:\n",
    "        return 'night'\n",
    "    elif 6 < time <= 12:\n",
    "         return 'morning'\n",
    "    elif 12 < time <= 18:\n",
    "         return 'day'\n",
    "    elif 18 < time <= 23:\n",
    "         return 'evening'\n",
    "    else:\n",
    "         return 'else'\n",
    "bike_df['time_of_day'] = bike_df['starttime'].dt.hour.apply(get_time_of_day)\n",
    "a = bike_df[bike_df['time_of_day'] == 'day'].shape[0]\n",
    "b = bike_df[bike_df['time_of_day'] == 'night'].shape[0]\n",
    "print(round(a / b))\n"
   ]
  },
  {
   "cell_type": "markdown",
   "metadata": {},
   "source": [
    "***\n",
    "1. Вспомним, что мы импортировали библиотеку pandas по имени pd. При этом нам стала доступна функция to_datetime преобразования в формат дата_время значений других форматов. И обратиться к этой функции мы можем только указав ее расположение, а именно библиотеку pandas как pd. \n",
    "2. dt - это некая маска в которой есть открытое окно. Сдвигая окно вдоль значения типа datetime мы можем видеть различные составляющие этого значения. Например час (hour). А дальше можно применить к этому значению любую функцию, которая указана в методе apply().\n",
    "\n",
    "Если pd дает доступ к функциям библиотеки pandas, то dt дает доступ к дате-времени по частям. А дата-время состоит из года, месяца, дня, часов, минут, секунд, миллисекунд.\n"
   ]
  }
 ],
 "metadata": {
  "kernelspec": {
   "display_name": "Python 3",
   "language": "python",
   "name": "python3"
  },
  "language_info": {
   "codemirror_mode": {
    "name": "ipython",
    "version": 3
   },
   "file_extension": ".py",
   "mimetype": "text/x-python",
   "name": "python",
   "nbconvert_exporter": "python",
   "pygments_lexer": "ipython3",
   "version": "3.12.2"
  }
 },
 "nbformat": 4,
 "nbformat_minor": 2
}
