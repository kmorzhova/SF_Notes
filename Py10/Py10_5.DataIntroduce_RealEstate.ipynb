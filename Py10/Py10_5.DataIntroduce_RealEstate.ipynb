{
 "cells": [
  {
   "cell_type": "markdown",
   "metadata": {},
   "source": [
    "# **5. Знакомимся с данными: недвижимость**\n",
    "\n",
    "✍ Дальнейший разбор инструментария Pandas мы будем проводить на наборе данных с учебного соревнования по анализу данных на Kaggle.\n",
    "Данные, с которыми мы будем работать — это обработанный датасет об объектах недвижимости в Мельбурне (Австралия) и его пригородах.\n",
    "Исходный датасет и более детальное описание к нему находятся здесь.\n",
    "Обратите внимание, что в учебных целях мы изменили исходный датасет с Kaggle. При решении задач пользуйтесь изменённой таблицей (csv-файл находится в zip-архиве — распакуйте архив, прежде чем продолжать работу!).\n",
    "Важно! Для того чтобы ваш код совпадал с нашим, положите файл в ту самую папку data, которую мы создали ранее.\n",
    "Данные представляют собой таблицу, в которой содержится 23 столбца:\n",
    "\n",
    "1.\tindex — номер строки\n",
    "2.\tSuburb — наименование пригорода\n",
    "3.\tAddress — адрес\n",
    "4.\tRooms — количество комнат в помещении\n",
    "5.\tType — тип здания (h — дом, коттедж, вилла, терраса; u — блочный, дуплексный дом; t — таунхаус)\n",
    "6.\tPrice — цена помещения\n",
    "7.\tMethod — метод продажи \n",
    "8.\tSellerG — риэлторская компания\n",
    "9.\tDate — дата продажи (в формате день/месяц/год)\n",
    "10.\tDistance — расстояния до объекта от центра Мельбурна \n",
    "11.\tPostcode — почтовый индекс\n",
    "12.\tBedroom — количество спален\n",
    "13.\tBathroom — количество ванных комнат\n",
    "14.\tCar — количество парковочных мест\n",
    "15.\tLandsize — площадь прилегающей территории\n",
    "16.\tBuildingArea — площадь здания\n",
    "17.\tYearBuilt — год постройки\n",
    "18.\tCouncilArea — региональное управление\n",
    "19.\tLattitude — географическая широта\n",
    "20.\tLongitude — географическая долгота\n",
    "21.\tRegionname — наименование района Мельбурна\n",
    "22.\tPropertycount — количество объектов недвижимости в районе\n",
    "23.\tCoordinates — широта и долгота, объединённые в кортеж\n",
    "Прочитаем наши данные о недвижимости из csv-файла и запишем результирующий DataFrame в переменную melb_data:\n",
    "melb_data = pd.read_csv('data/melb_data.csv', sep=',')\n",
    "✍ Итак, файл прочитан. Далее мы займёмся анализом структуры представленной таблицы. А сейчас предлагаем вам ответить на несколько вопросов по содержимому DataFrame ↓\n"
   ]
  },
  {
   "cell_type": "markdown",
   "metadata": {},
   "source": [
    "\n",
    "*Задание 5.1*\n",
    "\n",
    "Какова цена объекта недвижимости под индексом 15?\n",
    "\n",
    "\n",
    "\n"
   ]
  },
  {
   "cell_type": "code",
   "execution_count": 4,
   "metadata": {},
   "outputs": [],
   "source": [
    "import numpy as np\n",
    "\n"
   ]
  },
  {
   "cell_type": "code",
   "execution_count": 5,
   "metadata": {},
   "outputs": [],
   "source": [
    "import pandas as pd"
   ]
  },
  {
   "cell_type": "code",
   "execution_count": 6,
   "metadata": {},
   "outputs": [
    {
     "data": {
      "text/plain": [
       "1310000.0"
      ]
     },
     "execution_count": 6,
     "metadata": {},
     "output_type": "execute_result"
    }
   ],
   "source": [
    "melb_data = pd.read_csv('data/melb_data.csv')\n",
    "melb_data.loc[15, 'Price']"
   ]
  },
  {
   "cell_type": "markdown",
   "metadata": {},
   "source": [
    "*Задание 5.2*\n",
    "\n",
    "Когда был продан объект под индексом 90?\n"
   ]
  },
  {
   "cell_type": "code",
   "execution_count": 7,
   "metadata": {},
   "outputs": [
    {
     "data": {
      "text/plain": [
       "'10/09/2016'"
      ]
     },
     "execution_count": 7,
     "metadata": {},
     "output_type": "execute_result"
    }
   ],
   "source": [
    "melb_data.loc[90, 'Date']"
   ]
  },
  {
   "cell_type": "markdown",
   "metadata": {},
   "source": [
    "*Задание 5.3*\n",
    "\n",
    "Во сколько раз площадь прилегающей территории, на которой находится здание с индексом 3521, больше площади участка, на котором находится здание с индексом 1690? Ответ округлите до целого числа.  нет ответа \n",
    "  \n"
   ]
  },
  {
   "cell_type": "code",
   "execution_count": 8,
   "metadata": {},
   "outputs": [
    {
     "data": {
      "text/plain": [
       "3"
      ]
     },
     "execution_count": 8,
     "metadata": {},
     "output_type": "execute_result"
    }
   ],
   "source": [
    "round(melb_data.loc[3521, 'Landsize'] / melb_data.loc[1690, 'Landsize'])"
   ]
  }
 ],
 "metadata": {
  "kernelspec": {
   "display_name": "Python 3",
   "language": "python",
   "name": "python3"
  },
  "language_info": {
   "codemirror_mode": {
    "name": "ipython",
    "version": 3
   },
   "file_extension": ".py",
   "mimetype": "text/x-python",
   "name": "python",
   "nbconvert_exporter": "python",
   "pygments_lexer": "ipython3",
   "version": "3.12.2"
  }
 },
 "nbformat": 4,
 "nbformat_minor": 2
}
